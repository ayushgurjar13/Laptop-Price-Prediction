{
 "cells": [
  {
   "cell_type": "markdown",
   "id": "e4aa8751",
   "metadata": {},
   "source": [
    "# Laptop Analysis Project \n",
    "\n",
    "## By Group - 4"
   ]
  },
  {
   "cell_type": "markdown",
   "id": "b1615a70",
   "metadata": {},
   "source": [
    "<h2> Business Problem </h2>\n",
    "<p>Predicting the price of laptop<p>\n",
    "    \n",
    "\n",
    "Source- Scraped the data of laptops from e-commerce sites\n",
    "    \n",
    "<h2>Machine Leaning Problem</h2>\n",
    "\n",
    "It is a Regresion problem, for a given columns we need to predict the price of laptop.\n",
    "\n",
    "<h2> Performance Metric</h2>\n",
    "\n",
    "1. R2 Score\n",
    "\n",
    "2. Mean Absolute Error\n",
    "\n",
    "3. RMSE\n"
   ]
  },
  {
   "cell_type": "markdown",
   "id": "a3f0b166",
   "metadata": {},
   "source": [
    "## Data Processing Steps\n",
    "\n",
    "1. **Load the Dataset**\n",
    "\n",
    " "
   ]
  },
  {
   "cell_type": "code",
   "execution_count": 24,
   "id": "e5a9a1c3",
   "metadata": {},
   "outputs": [],
   "source": [
    "import pandas as pd \n",
    "import numpy as np\n"
   ]
  },
  {
   "cell_type": "code",
   "execution_count": 25,
   "id": "d3915091",
   "metadata": {},
   "outputs": [
    {
     "data": {
      "text/html": [
       "<div>\n",
       "<style scoped>\n",
       "    .dataframe tbody tr th:only-of-type {\n",
       "        vertical-align: middle;\n",
       "    }\n",
       "\n",
       "    .dataframe tbody tr th {\n",
       "        vertical-align: top;\n",
       "    }\n",
       "\n",
       "    .dataframe thead th {\n",
       "        text-align: right;\n",
       "    }\n",
       "</style>\n",
       "<table border=\"1\" class=\"dataframe\">\n",
       "  <thead>\n",
       "    <tr style=\"text-align: right;\">\n",
       "      <th></th>\n",
       "      <th>Brand</th>\n",
       "      <th>Model</th>\n",
       "      <th>Processor</th>\n",
       "      <th>Generation</th>\n",
       "      <th>Operating System</th>\n",
       "      <th>RAM</th>\n",
       "      <th>Storage</th>\n",
       "      <th>Size</th>\n",
       "      <th>Warranty</th>\n",
       "      <th>Color</th>\n",
       "      <th>Star Rating</th>\n",
       "      <th>No. of Ratings</th>\n",
       "      <th>No. of Reviews</th>\n",
       "      <th>Price</th>\n",
       "    </tr>\n",
       "  </thead>\n",
       "  <tbody>\n",
       "    <tr>\n",
       "      <th>8905</th>\n",
       "      <td>MSI</td>\n",
       "      <td>MSI Modern</td>\n",
       "      <td>Intel Core i5</td>\n",
       "      <td>13th Gen</td>\n",
       "      <td>Windows 11 Operating System</td>\n",
       "      <td>16 GB</td>\n",
       "      <td>512</td>\n",
       "      <td>39.62</td>\n",
       "      <td>2</td>\n",
       "      <td>Silver</td>\n",
       "      <td>4.3</td>\n",
       "      <td>1963</td>\n",
       "      <td>284</td>\n",
       "      <td>44990</td>\n",
       "    </tr>\n",
       "    <tr>\n",
       "      <th>8906</th>\n",
       "      <td>DELL</td>\n",
       "      <td>DELL Inspiron</td>\n",
       "      <td>Intel Core i3</td>\n",
       "      <td>12th Gen</td>\n",
       "      <td>Windows 11 Operating System</td>\n",
       "      <td>8 GB</td>\n",
       "      <td>512</td>\n",
       "      <td>39.62</td>\n",
       "      <td>1</td>\n",
       "      <td>Blue</td>\n",
       "      <td>4.2</td>\n",
       "      <td>1630</td>\n",
       "      <td>300</td>\n",
       "      <td>42490</td>\n",
       "    </tr>\n",
       "    <tr>\n",
       "      <th>8907</th>\n",
       "      <td>MSI</td>\n",
       "      <td>MSI Thin</td>\n",
       "      <td>AMD Ryzen 5</td>\n",
       "      <td>11th Gen</td>\n",
       "      <td>Windows 11 Operating System</td>\n",
       "      <td>8 GB</td>\n",
       "      <td>512</td>\n",
       "      <td>39.62</td>\n",
       "      <td>2</td>\n",
       "      <td>Black</td>\n",
       "      <td>4.3</td>\n",
       "      <td>1689</td>\n",
       "      <td>233</td>\n",
       "      <td>47990</td>\n",
       "    </tr>\n",
       "    <tr>\n",
       "      <th>8908</th>\n",
       "      <td>MSI</td>\n",
       "      <td>MSI Modern</td>\n",
       "      <td>Intel Core i5</td>\n",
       "      <td>12th Gen</td>\n",
       "      <td>Windows 11 Operating System</td>\n",
       "      <td>8 GB</td>\n",
       "      <td>512</td>\n",
       "      <td>35.56</td>\n",
       "      <td>1</td>\n",
       "      <td>Blue</td>\n",
       "      <td>4.3</td>\n",
       "      <td>764</td>\n",
       "      <td>112</td>\n",
       "      <td>36990</td>\n",
       "    </tr>\n",
       "    <tr>\n",
       "      <th>8909</th>\n",
       "      <td>Lenovo</td>\n",
       "      <td>Lenovo IdeaPad Slim</td>\n",
       "      <td>Intel Core i5</td>\n",
       "      <td>12th Gen</td>\n",
       "      <td>Windows 11 Operating System</td>\n",
       "      <td>16 GB</td>\n",
       "      <td>512</td>\n",
       "      <td>100.63</td>\n",
       "      <td>2</td>\n",
       "      <td>Black</td>\n",
       "      <td>4.2</td>\n",
       "      <td>463</td>\n",
       "      <td>286</td>\n",
       "      <td>36990</td>\n",
       "    </tr>\n",
       "  </tbody>\n",
       "</table>\n",
       "</div>"
      ],
      "text/plain": [
       "       Brand                Model      Processor Generation  \\\n",
       "8905     MSI           MSI Modern  Intel Core i5   13th Gen   \n",
       "8906    DELL        DELL Inspiron  Intel Core i3   12th Gen   \n",
       "8907     MSI             MSI Thin    AMD Ryzen 5   11th Gen   \n",
       "8908     MSI           MSI Modern  Intel Core i5   12th Gen   \n",
       "8909  Lenovo  Lenovo IdeaPad Slim  Intel Core i5   12th Gen   \n",
       "\n",
       "                 Operating System    RAM  Storage    Size  Warranty   Color  \\\n",
       "8905  Windows 11 Operating System  16 GB      512   39.62         2  Silver   \n",
       "8906  Windows 11 Operating System   8 GB      512   39.62         1    Blue   \n",
       "8907  Windows 11 Operating System   8 GB      512   39.62         2   Black   \n",
       "8908  Windows 11 Operating System   8 GB      512   35.56         1    Blue   \n",
       "8909  Windows 11 Operating System  16 GB      512  100.63         2   Black   \n",
       "\n",
       "      Star Rating  No. of Ratings  No. of Reviews  Price  \n",
       "8905          4.3            1963             284  44990  \n",
       "8906          4.2            1630             300  42490  \n",
       "8907          4.3            1689             233  47990  \n",
       "8908          4.3             764             112  36990  \n",
       "8909          4.2             463             286  36990  "
      ]
     },
     "execution_count": 25,
     "metadata": {},
     "output_type": "execute_result"
    }
   ],
   "source": [
    "df = pd.read_csv(\"D:\\\\SEM 5\\\\BDA\\\\Laptop Analysis Project\\\\cleaned_file.csv\")\n",
    "df.tail()"
   ]
  },
  {
   "cell_type": "markdown",
   "id": "70e2203e",
   "metadata": {},
   "source": [
    "<h1>Data Cleaning</h1>"
   ]
  },
  {
   "cell_type": "code",
   "execution_count": 26,
   "id": "b922aae1",
   "metadata": {},
   "outputs": [
    {
     "name": "stdout",
     "output_type": "stream",
     "text": [
      "<class 'pandas.core.frame.DataFrame'>\n",
      "RangeIndex: 8910 entries, 0 to 8909\n",
      "Data columns (total 14 columns):\n",
      " #   Column            Non-Null Count  Dtype  \n",
      "---  ------            --------------  -----  \n",
      " 0   Brand             8910 non-null   object \n",
      " 1   Model             8910 non-null   object \n",
      " 2   Processor         8910 non-null   object \n",
      " 3   Generation        8910 non-null   object \n",
      " 4   Operating System  8910 non-null   object \n",
      " 5   RAM               8910 non-null   object \n",
      " 6   Storage           8910 non-null   int64  \n",
      " 7   Size              8910 non-null   float64\n",
      " 8   Warranty          8910 non-null   int64  \n",
      " 9   Color             8910 non-null   object \n",
      " 10  Star Rating       8910 non-null   float64\n",
      " 11  No. of Ratings    8910 non-null   int64  \n",
      " 12  No. of Reviews    8910 non-null   int64  \n",
      " 13  Price             8910 non-null   int64  \n",
      "dtypes: float64(2), int64(5), object(7)\n",
      "memory usage: 974.7+ KB\n"
     ]
    }
   ],
   "source": [
    "df.info()"
   ]
  },
  {
   "cell_type": "code",
   "execution_count": 27,
   "id": "89621de7",
   "metadata": {},
   "outputs": [
    {
     "data": {
      "text/plain": [
       "(8910, 14)"
      ]
     },
     "execution_count": 27,
     "metadata": {},
     "output_type": "execute_result"
    }
   ],
   "source": [
    "df.shape"
   ]
  },
  {
   "cell_type": "code",
   "execution_count": 28,
   "id": "e2c83133",
   "metadata": {},
   "outputs": [
    {
     "data": {
      "text/plain": [
       "Brand               0\n",
       "Model               0\n",
       "Processor           0\n",
       "Generation          0\n",
       "Operating System    0\n",
       "RAM                 0\n",
       "Storage             0\n",
       "Size                0\n",
       "Warranty            0\n",
       "Color               0\n",
       "Star Rating         0\n",
       "No. of Ratings      0\n",
       "No. of Reviews      0\n",
       "Price               0\n",
       "dtype: int64"
      ]
     },
     "execution_count": 28,
     "metadata": {},
     "output_type": "execute_result"
    }
   ],
   "source": [
    "df.isnull().sum()"
   ]
  },
  {
   "cell_type": "code",
   "execution_count": 29,
   "id": "c6fbef7d",
   "metadata": {},
   "outputs": [
    {
     "data": {
      "text/plain": [
       "0"
      ]
     },
     "execution_count": 29,
     "metadata": {},
     "output_type": "execute_result"
    }
   ],
   "source": [
    "df.duplicated().sum()"
   ]
  },
  {
   "cell_type": "code",
   "execution_count": 30,
   "id": "5530c15b",
   "metadata": {},
   "outputs": [
    {
     "data": {
      "text/plain": [
       "39.62     5035\n",
       "35.56     2471\n",
       "34.54      458\n",
       "40.64      392\n",
       "100.63     201\n",
       "100.58     194\n",
       "40.89      140\n",
       "43.94       19\n",
       "Name: Size, dtype: int64"
      ]
     },
     "execution_count": 30,
     "metadata": {},
     "output_type": "execute_result"
    }
   ],
   "source": [
    "df['Size'].value_counts()"
   ]
  },
  {
   "cell_type": "code",
   "execution_count": 31,
   "id": "2df649b5",
   "metadata": {},
   "outputs": [
    {
     "data": {
      "text/plain": [
       "Windows 11 Operating System           7172\n",
       "64 bit Windows 11 Operating System    1087\n",
       "Mac OS Operating System                458\n",
       "Windows 11 Home Operating System       193\n",
       "Name: Operating System, dtype: int64"
      ]
     },
     "execution_count": 31,
     "metadata": {},
     "output_type": "execute_result"
    }
   ],
   "source": [
    "df['Operating System'].value_counts()"
   ]
  },
  {
   "cell_type": "code",
   "execution_count": 32,
   "id": "df414397",
   "metadata": {},
   "outputs": [
    {
     "data": {
      "text/plain": [
       "16 GB    4998\n",
       "8 GB     3767\n",
       "24 GB     145\n",
       "Name: RAM, dtype: int64"
      ]
     },
     "execution_count": 32,
     "metadata": {},
     "output_type": "execute_result"
    }
   ],
   "source": [
    "df['RAM'].value_counts()"
   ]
  },
  {
   "cell_type": "code",
   "execution_count": 33,
   "id": "118fc41f",
   "metadata": {},
   "outputs": [
    {
     "data": {
      "text/plain": [
       "512    7806\n",
       "1       646\n",
       "256     458\n",
       "Name: Storage, dtype: int64"
      ]
     },
     "execution_count": 33,
     "metadata": {},
     "output_type": "execute_result"
    }
   ],
   "source": [
    "df['Storage'].value_counts()"
   ]
  },
  {
   "cell_type": "code",
   "execution_count": 34,
   "id": "619999f6",
   "metadata": {},
   "outputs": [
    {
     "name": "stdout",
     "output_type": "stream",
     "text": [
      "512     7806\n",
      "1024     646\n",
      "256      458\n",
      "Name: Storage, dtype: int64\n"
     ]
    }
   ],
   "source": [
    "df['Storage'] = df['Storage'].replace(1, 1024)\n",
    "print(df['Storage'].value_counts())"
   ]
  },
  {
   "cell_type": "code",
   "execution_count": 35,
   "id": "6e1f36ad",
   "metadata": {},
   "outputs": [
    {
     "data": {
      "text/plain": [
       "(8910, 14)"
      ]
     },
     "execution_count": 35,
     "metadata": {},
     "output_type": "execute_result"
    }
   ],
   "source": [
    "df.shape"
   ]
  },
  {
   "cell_type": "code",
   "execution_count": 36,
   "id": "fad9ab3c",
   "metadata": {},
   "outputs": [
    {
     "name": "stdout",
     "output_type": "stream",
     "text": [
      "16    4998\n",
      "8     3767\n",
      "24     145\n",
      "Name: RAM, dtype: int64\n"
     ]
    }
   ],
   "source": [
    "# Remove the 'GB' part and convert to integer\n",
    "df['RAM'] = df['RAM'].str.replace('GB', '').astype(int)\n",
    "\n",
    "# Verify the changes\n",
    "print(df['RAM'].value_counts())\n"
   ]
  },
  {
   "cell_type": "code",
   "execution_count": 37,
   "id": "41525ec5",
   "metadata": {},
   "outputs": [
    {
     "name": "stdout",
     "output_type": "stream",
     "text": [
      "16    4998\n",
      "8     3767\n",
      "Name: RAM, dtype: int64\n"
     ]
    }
   ],
   "source": [
    "# Remove rows where RAM is 24\n",
    "df = df[df['RAM'] != 24]\n",
    "\n",
    "# Verify the changes\n",
    "print(df['RAM'].value_counts())\n"
   ]
  },
  {
   "cell_type": "code",
   "execution_count": 38,
   "id": "769c8822",
   "metadata": {},
   "outputs": [
    {
     "data": {
      "text/plain": [
       "(8765, 14)"
      ]
     },
     "execution_count": 38,
     "metadata": {},
     "output_type": "execute_result"
    }
   ],
   "source": [
    "df.shape"
   ]
  },
  {
   "cell_type": "code",
   "execution_count": 39,
   "id": "82b5986a",
   "metadata": {},
   "outputs": [
    {
     "data": {
      "text/plain": [
       "Intel Core i5         4586\n",
       "Intel Core i3         2045\n",
       "AMD Ryzen 5            779\n",
       "Intel Core i7          713\n",
       "AMD Ryzen 7            258\n",
       "AMD Ryzen 3            192\n",
       "Intel Celeron Dual     192\n",
       "Name: Processor, dtype: int64"
      ]
     },
     "execution_count": 39,
     "metadata": {},
     "output_type": "execute_result"
    }
   ],
   "source": [
    "df['Processor'].value_counts()"
   ]
  },
  {
   "cell_type": "code",
   "execution_count": 40,
   "id": "41e9d673",
   "metadata": {},
   "outputs": [
    {
     "data": {
      "text/plain": [
       "12th Gen    5831\n",
       "13th Gen    1545\n",
       "11th Gen    1001\n",
       "14th Gen     195\n",
       "10th Gen     193\n",
       "Name: Generation, dtype: int64"
      ]
     },
     "execution_count": 40,
     "metadata": {},
     "output_type": "execute_result"
    }
   ],
   "source": [
    "df['Generation'].value_counts()"
   ]
  },
  {
   "cell_type": "markdown",
   "id": "b3604d36",
   "metadata": {},
   "source": [
    "<h2>Exploratory Data Analysis  </h2>"
   ]
  },
  {
   "cell_type": "code",
   "execution_count": 41,
   "id": "4ee3910c",
   "metadata": {},
   "outputs": [
    {
     "data": {
      "image/png": "[encoded data removed]",
      "text/plain": [
       "<Figure size 1000x600 with 1 Axes>"
      ]
     },
     "metadata": {},
     "output_type": "display_data"
    }
   ],
   "source": [
    "\n",
    "\n",
    "import matplotlib.pyplot as plt\n",
    "import seaborn as sns\n",
    "\n",
    "# Plotting Price Distribution\n",
    "plt.figure(figsize=(10, 6))\n",
    "sns.histplot(df['Price'], bins=50, kde=True)\n",
    "plt.title('Price Distribution')\n",
    "plt.xlabel('Price')\n",
    "plt.ylabel('Frequency')\n",
    "plt.show()\n"
   ]
  },
  {
   "cell_type": "code",
   "execution_count": 369,
   "id": "c3d725ac",
   "metadata": {},
   "outputs": [
    {
     "data": {
      "image/png": "[encoded data removed]",
      "text/plain": [
       "<Figure size 1000x600 with 1 Axes>"
      ]
     },
     "metadata": {},
     "output_type": "display_data"
    }
   ],
   "source": [
    "plt.figure(figsize=(10, 6))\n",
    "sns.boxplot(x='RAM', y='Price', data=df)\n",
    "plt.title('Price vs RAM')\n",
    "plt.xlabel('RAM')\n",
    "plt.ylabel('Price')\n",
    "plt.show()\n"
   ]
  },
  {
   "cell_type": "code",
   "execution_count": 42,
   "id": "12bb729f",
   "metadata": {},
   "outputs": [
    {
     "data": {
      "image/png": "[encoded data removed]",
      "text/plain": [
       "<Figure size 700x1000 with 1 Axes>"
      ]
     },
     "metadata": {},
     "output_type": "display_data"
    }
   ],
   "source": [
    "plt.figure(figsize=(7,10)) \n",
    "sns.scatterplot(df, x='Price', y='Processor')\n",
    "plt.show()"
   ]
  },
  {
   "cell_type": "code",
   "execution_count": 43,
   "id": "c30c0ad7",
   "metadata": {},
   "outputs": [
    {
     "data": {
      "image/png": "[encoded data removed]",
      "text/plain": [
       "<Figure size 700x500 with 1 Axes>"
      ]
     },
     "metadata": {},
     "output_type": "display_data"
    }
   ],
   "source": [
    "# Replace 'Win 10' with 'Windows 10' to standardize the OS names\n",
    "df['Operating System'] = df['Operating System'].replace('Win 10', 'Windows 10')\n",
    "\n",
    "# Create the plot again\n",
    "plt.figure(figsize=(7,5))\n",
    "df.groupby('Operating System').size().sort_values().plot.barh(color='skyblue')\n",
    "plt.title('Distribution of Operating Systems')\n",
    "plt.xlabel('Count')\n",
    "plt.ylabel('Operating System')\n",
    "plt.show()"
   ]
  },
  {
   "cell_type": "code",
   "execution_count": 44,
   "id": "037245ce",
   "metadata": {},
   "outputs": [
    {
     "data": {
      "image/png": "[encoded data removed]",
      "text/plain": [
       "<Figure size 800x550 with 1 Axes>"
      ]
     },
     "metadata": {},
     "output_type": "display_data"
    }
   ],
   "source": [
    "\n",
    "sns.barplot(x=df['Brand'], y=df['Price'])\n",
    "\n",
    "plt.xticks(rotation=\"vertical\")\n",
    "\n",
    "plt.show()\n",
    " "
   ]
  },
  {
   "cell_type": "code",
   "execution_count": null,
   "id": "ce84199e",
   "metadata": {},
   "outputs": [],
   "source": []
  },
  {
   "cell_type": "markdown",
   "id": "5e65cd03",
   "metadata": {},
   "source": [
    "<h2> Removing Outliers </h2>"
   ]
  },
  {
   "cell_type": "code",
   "execution_count": 45,
   "id": "0ffb5a9e",
   "metadata": {},
   "outputs": [
    {
     "name": "stdout",
     "output_type": "stream",
     "text": [
      "(8210, 14)\n",
      "<class 'pandas.core.frame.DataFrame'>\n",
      "Int64Index: 8210 entries, 1 to 8909\n",
      "Data columns (total 14 columns):\n",
      " #   Column            Non-Null Count  Dtype  \n",
      "---  ------            --------------  -----  \n",
      " 0   Brand             8210 non-null   object \n",
      " 1   Model             8210 non-null   object \n",
      " 2   Processor         8210 non-null   object \n",
      " 3   Generation        8210 non-null   object \n",
      " 4   Operating System  8210 non-null   object \n",
      " 5   RAM               8210 non-null   int32  \n",
      " 6   Storage           8210 non-null   int64  \n",
      " 7   Size              8210 non-null   float64\n",
      " 8   Warranty          8210 non-null   int64  \n",
      " 9   Color             8210 non-null   object \n",
      " 10  Star Rating       8210 non-null   float64\n",
      " 11  No. of Ratings    8210 non-null   int64  \n",
      " 12  No. of Reviews    8210 non-null   int64  \n",
      " 13  Price             8210 non-null   int64  \n",
      "dtypes: float64(2), int32(1), int64(5), object(6)\n",
      "memory usage: 930.0+ KB\n"
     ]
    }
   ],
   "source": [
    "# Calculate IQR (Interquartile Range)\n",
    "Q1 = df['Price'].quantile(0.25)\n",
    "Q3 = df['Price'].quantile(0.75)\n",
    "IQR = Q3 - Q1\n",
    "\n",
    "# Define the lower and upper bounds to remove outliers\n",
    "lower_bound = Q1 - 1.5 * IQR\n",
    "upper_bound = Q3 + 1.5 * IQR\n",
    "\n",
    "# Remove outliers from the Price column using the IQR method\n",
    "df = df[(df['Price'] >= lower_bound) & (df['Price'] <= upper_bound)]\n",
    "\n",
    "# Check the shape and info of the cleaned DataFrame\n",
    "print(df.shape)\n",
    "df.info()\n"
   ]
  },
  {
   "cell_type": "code",
   "execution_count": null,
   "id": "55f84b83",
   "metadata": {},
   "outputs": [],
   "source": []
  },
  {
   "cell_type": "code",
   "execution_count": 46,
   "id": "b464d1dd",
   "metadata": {},
   "outputs": [
    {
     "data": {
      "image/png": "[encoded data removed]",
      "text/plain": [
       "<Figure size 1000x600 with 1 Axes>"
      ]
     },
     "metadata": {},
     "output_type": "display_data"
    }
   ],
   "source": [
    "import matplotlib.pyplot as plt\n",
    "import seaborn as sns\n",
    "\n",
    "# Plotting Price Distribution\n",
    "plt.figure(figsize=(10, 6))\n",
    "sns.histplot(df['Price'], bins=50, kde=True)\n",
    "plt.title('Price Distribution')\n",
    "plt.xlabel('Price')\n",
    "plt.ylabel('Frequency')\n",
    "plt.show()\n"
   ]
  },
  {
   "cell_type": "code",
   "execution_count": 47,
   "id": "b72e463c",
   "metadata": {},
   "outputs": [
    {
     "data": {
      "image/png": "[encoded data removed]",
      "text/plain": [
       "<Figure size 1000x600 with 1 Axes>"
      ]
     },
     "metadata": {},
     "output_type": "display_data"
    }
   ],
   "source": [
    "plt.figure(figsize=(10, 6))\n",
    "sns.boxplot(x='RAM', y='Price', data=df)\n",
    "plt.title('Price vs RAM')\n",
    "plt.xlabel('RAM')\n",
    "plt.ylabel('Price')\n",
    "plt.show()\n"
   ]
  },
  {
   "cell_type": "code",
   "execution_count": 48,
   "id": "5907e55b",
   "metadata": {},
   "outputs": [
    {
     "data": {
      "image/png": "[encoded data removed]",
      "text/plain": [
       "<Figure size 700x1000 with 1 Axes>"
      ]
     },
     "metadata": {},
     "output_type": "display_data"
    }
   ],
   "source": [
    "plt.figure(figsize=(7,10)) \n",
    "sns.scatterplot(df, x='Price', y='Processor')\n",
    "plt.show()"
   ]
  },
  {
   "cell_type": "code",
   "execution_count": null,
   "id": "cf42dfe2",
   "metadata": {},
   "outputs": [],
   "source": []
  },
  {
   "cell_type": "code",
   "execution_count": 49,
   "id": "29373457",
   "metadata": {},
   "outputs": [
    {
     "data": {
      "text/html": [
       "<div>\n",
       "<style scoped>\n",
       "    .dataframe tbody tr th:only-of-type {\n",
       "        vertical-align: middle;\n",
       "    }\n",
       "\n",
       "    .dataframe tbody tr th {\n",
       "        vertical-align: top;\n",
       "    }\n",
       "\n",
       "    .dataframe thead th {\n",
       "        text-align: right;\n",
       "    }\n",
       "</style>\n",
       "<table border=\"1\" class=\"dataframe\">\n",
       "  <thead>\n",
       "    <tr style=\"text-align: right;\">\n",
       "      <th></th>\n",
       "      <th>Brand</th>\n",
       "      <th>Model</th>\n",
       "      <th>Processor</th>\n",
       "      <th>Generation</th>\n",
       "      <th>Operating System</th>\n",
       "      <th>RAM</th>\n",
       "      <th>Storage</th>\n",
       "      <th>Size</th>\n",
       "      <th>Warranty</th>\n",
       "      <th>Color</th>\n",
       "      <th>Star Rating</th>\n",
       "      <th>No. of Ratings</th>\n",
       "      <th>No. of Reviews</th>\n",
       "      <th>Price</th>\n",
       "    </tr>\n",
       "  </thead>\n",
       "  <tbody>\n",
       "    <tr>\n",
       "      <th>1</th>\n",
       "      <td>MSI</td>\n",
       "      <td>MSI Thin</td>\n",
       "      <td>Intel Core i5</td>\n",
       "      <td>12th Gen</td>\n",
       "      <td>Windows 11 Operating System</td>\n",
       "      <td>16</td>\n",
       "      <td>512</td>\n",
       "      <td>39.62</td>\n",
       "      <td>2</td>\n",
       "      <td>Grey</td>\n",
       "      <td>4.3</td>\n",
       "      <td>1709</td>\n",
       "      <td>125</td>\n",
       "      <td>49990</td>\n",
       "    </tr>\n",
       "    <tr>\n",
       "      <th>2</th>\n",
       "      <td>HP</td>\n",
       "      <td>HP Intel Core i</td>\n",
       "      <td>Intel Core i5</td>\n",
       "      <td>12th Gen</td>\n",
       "      <td>Windows 11 Operating System</td>\n",
       "      <td>16</td>\n",
       "      <td>512</td>\n",
       "      <td>39.62</td>\n",
       "      <td>2</td>\n",
       "      <td>Blue</td>\n",
       "      <td>4.2</td>\n",
       "      <td>1110</td>\n",
       "      <td>126</td>\n",
       "      <td>53990</td>\n",
       "    </tr>\n",
       "    <tr>\n",
       "      <th>3</th>\n",
       "      <td>ASUS</td>\n",
       "      <td>ASUS Vivobook</td>\n",
       "      <td>Intel Core i3</td>\n",
       "      <td>12th Gen</td>\n",
       "      <td>Windows 11 Operating System</td>\n",
       "      <td>8</td>\n",
       "      <td>512</td>\n",
       "      <td>39.62</td>\n",
       "      <td>2</td>\n",
       "      <td>Blue</td>\n",
       "      <td>4.3</td>\n",
       "      <td>1544</td>\n",
       "      <td>289</td>\n",
       "      <td>36990</td>\n",
       "    </tr>\n",
       "    <tr>\n",
       "      <th>4</th>\n",
       "      <td>Acer</td>\n",
       "      <td>Acer Aspire</td>\n",
       "      <td>Intel Core i3</td>\n",
       "      <td>12th Gen</td>\n",
       "      <td>64 bit Windows 11 Operating System</td>\n",
       "      <td>8</td>\n",
       "      <td>512</td>\n",
       "      <td>35.56</td>\n",
       "      <td>1</td>\n",
       "      <td>Silver</td>\n",
       "      <td>4.2</td>\n",
       "      <td>1380</td>\n",
       "      <td>182</td>\n",
       "      <td>29990</td>\n",
       "    </tr>\n",
       "    <tr>\n",
       "      <th>5</th>\n",
       "      <td>Lenovo</td>\n",
       "      <td>Lenovo IdeaPad Slim</td>\n",
       "      <td>Intel Core i5</td>\n",
       "      <td>12th Gen</td>\n",
       "      <td>Windows 11 Operating System</td>\n",
       "      <td>16</td>\n",
       "      <td>512</td>\n",
       "      <td>35.56</td>\n",
       "      <td>1</td>\n",
       "      <td>Metallic Black</td>\n",
       "      <td>4.1</td>\n",
       "      <td>1345</td>\n",
       "      <td>227</td>\n",
       "      <td>49690</td>\n",
       "    </tr>\n",
       "    <tr>\n",
       "      <th>...</th>\n",
       "      <td>...</td>\n",
       "      <td>...</td>\n",
       "      <td>...</td>\n",
       "      <td>...</td>\n",
       "      <td>...</td>\n",
       "      <td>...</td>\n",
       "      <td>...</td>\n",
       "      <td>...</td>\n",
       "      <td>...</td>\n",
       "      <td>...</td>\n",
       "      <td>...</td>\n",
       "      <td>...</td>\n",
       "      <td>...</td>\n",
       "      <td>...</td>\n",
       "    </tr>\n",
       "    <tr>\n",
       "      <th>8905</th>\n",
       "      <td>MSI</td>\n",
       "      <td>MSI Modern</td>\n",
       "      <td>Intel Core i5</td>\n",
       "      <td>13th Gen</td>\n",
       "      <td>Windows 11 Operating System</td>\n",
       "      <td>16</td>\n",
       "      <td>512</td>\n",
       "      <td>39.62</td>\n",
       "      <td>2</td>\n",
       "      <td>Silver</td>\n",
       "      <td>4.3</td>\n",
       "      <td>1963</td>\n",
       "      <td>284</td>\n",
       "      <td>44990</td>\n",
       "    </tr>\n",
       "    <tr>\n",
       "      <th>8906</th>\n",
       "      <td>DELL</td>\n",
       "      <td>DELL Inspiron</td>\n",
       "      <td>Intel Core i3</td>\n",
       "      <td>12th Gen</td>\n",
       "      <td>Windows 11 Operating System</td>\n",
       "      <td>8</td>\n",
       "      <td>512</td>\n",
       "      <td>39.62</td>\n",
       "      <td>1</td>\n",
       "      <td>Blue</td>\n",
       "      <td>4.2</td>\n",
       "      <td>1630</td>\n",
       "      <td>300</td>\n",
       "      <td>42490</td>\n",
       "    </tr>\n",
       "    <tr>\n",
       "      <th>8907</th>\n",
       "      <td>MSI</td>\n",
       "      <td>MSI Thin</td>\n",
       "      <td>AMD Ryzen 5</td>\n",
       "      <td>11th Gen</td>\n",
       "      <td>Windows 11 Operating System</td>\n",
       "      <td>8</td>\n",
       "      <td>512</td>\n",
       "      <td>39.62</td>\n",
       "      <td>2</td>\n",
       "      <td>Black</td>\n",
       "      <td>4.3</td>\n",
       "      <td>1689</td>\n",
       "      <td>233</td>\n",
       "      <td>47990</td>\n",
       "    </tr>\n",
       "    <tr>\n",
       "      <th>8908</th>\n",
       "      <td>MSI</td>\n",
       "      <td>MSI Modern</td>\n",
       "      <td>Intel Core i5</td>\n",
       "      <td>12th Gen</td>\n",
       "      <td>Windows 11 Operating System</td>\n",
       "      <td>8</td>\n",
       "      <td>512</td>\n",
       "      <td>35.56</td>\n",
       "      <td>1</td>\n",
       "      <td>Blue</td>\n",
       "      <td>4.3</td>\n",
       "      <td>764</td>\n",
       "      <td>112</td>\n",
       "      <td>36990</td>\n",
       "    </tr>\n",
       "    <tr>\n",
       "      <th>8909</th>\n",
       "      <td>Lenovo</td>\n",
       "      <td>Lenovo IdeaPad Slim</td>\n",
       "      <td>Intel Core i5</td>\n",
       "      <td>12th Gen</td>\n",
       "      <td>Windows 11 Operating System</td>\n",
       "      <td>16</td>\n",
       "      <td>512</td>\n",
       "      <td>100.63</td>\n",
       "      <td>2</td>\n",
       "      <td>Black</td>\n",
       "      <td>4.2</td>\n",
       "      <td>463</td>\n",
       "      <td>286</td>\n",
       "      <td>36990</td>\n",
       "    </tr>\n",
       "  </tbody>\n",
       "</table>\n",
       "<p>8210 rows × 14 columns</p>\n",
       "</div>"
      ],
      "text/plain": [
       "       Brand                Model      Processor Generation  \\\n",
       "1        MSI             MSI Thin  Intel Core i5   12th Gen   \n",
       "2         HP      HP Intel Core i  Intel Core i5   12th Gen   \n",
       "3       ASUS        ASUS Vivobook  Intel Core i3   12th Gen   \n",
       "4       Acer          Acer Aspire  Intel Core i3   12th Gen   \n",
       "5     Lenovo  Lenovo IdeaPad Slim  Intel Core i5   12th Gen   \n",
       "...      ...                  ...            ...        ...   \n",
       "8905     MSI           MSI Modern  Intel Core i5   13th Gen   \n",
       "8906    DELL        DELL Inspiron  Intel Core i3   12th Gen   \n",
       "8907     MSI             MSI Thin    AMD Ryzen 5   11th Gen   \n",
       "8908     MSI           MSI Modern  Intel Core i5   12th Gen   \n",
       "8909  Lenovo  Lenovo IdeaPad Slim  Intel Core i5   12th Gen   \n",
       "\n",
       "                        Operating System  RAM  Storage    Size  Warranty  \\\n",
       "1            Windows 11 Operating System   16      512   39.62         2   \n",
       "2            Windows 11 Operating System   16      512   39.62         2   \n",
       "3            Windows 11 Operating System    8      512   39.62         2   \n",
       "4     64 bit Windows 11 Operating System    8      512   35.56         1   \n",
       "5            Windows 11 Operating System   16      512   35.56         1   \n",
       "...                                  ...  ...      ...     ...       ...   \n",
       "8905         Windows 11 Operating System   16      512   39.62         2   \n",
       "8906         Windows 11 Operating System    8      512   39.62         1   \n",
       "8907         Windows 11 Operating System    8      512   39.62         2   \n",
       "8908         Windows 11 Operating System    8      512   35.56         1   \n",
       "8909         Windows 11 Operating System   16      512  100.63         2   \n",
       "\n",
       "               Color  Star Rating  No. of Ratings  No. of Reviews  Price  \n",
       "1               Grey          4.3            1709             125  49990  \n",
       "2               Blue          4.2            1110             126  53990  \n",
       "3               Blue          4.3            1544             289  36990  \n",
       "4             Silver          4.2            1380             182  29990  \n",
       "5     Metallic Black          4.1            1345             227  49690  \n",
       "...              ...          ...             ...             ...    ...  \n",
       "8905          Silver          4.3            1963             284  44990  \n",
       "8906            Blue          4.2            1630             300  42490  \n",
       "8907           Black          4.3            1689             233  47990  \n",
       "8908            Blue          4.3             764             112  36990  \n",
       "8909           Black          4.2             463             286  36990  \n",
       "\n",
       "[8210 rows x 14 columns]"
      ]
     },
     "execution_count": 49,
     "metadata": {},
     "output_type": "execute_result"
    }
   ],
   "source": [
    "df\n"
   ]
  },
  {
   "cell_type": "code",
   "execution_count": 328,
   "id": "35b78659",
   "metadata": {},
   "outputs": [
    {
     "name": "stdout",
     "output_type": "stream",
     "text": [
      "<class 'pandas.core.frame.DataFrame'>\n",
      "Int64Index: 8210 entries, 1 to 8909\n",
      "Data columns (total 14 columns):\n",
      " #   Column            Non-Null Count  Dtype  \n",
      "---  ------            --------------  -----  \n",
      " 0   Brand             8210 non-null   object \n",
      " 1   Model             8210 non-null   object \n",
      " 2   Processor         8210 non-null   object \n",
      " 3   Generation        8210 non-null   object \n",
      " 4   Operating System  8210 non-null   object \n",
      " 5   RAM               8210 non-null   int32  \n",
      " 6   Storage           8210 non-null   int64  \n",
      " 7   Size              8210 non-null   float64\n",
      " 8   Warranty          8210 non-null   int64  \n",
      " 9   Color             8210 non-null   object \n",
      " 10  Star Rating       8210 non-null   float64\n",
      " 11  No. of Ratings    8210 non-null   int64  \n",
      " 12  No. of Reviews    8210 non-null   int64  \n",
      " 13  Price             8210 non-null   int64  \n",
      "dtypes: float64(2), int32(1), int64(5), object(6)\n",
      "memory usage: 930.0+ KB\n"
     ]
    }
   ],
   "source": [
    "df.info()"
   ]
  },
  {
   "cell_type": "markdown",
   "id": "2bc56424",
   "metadata": {},
   "source": [
    "<h2> Feature Engineering </h2>"
   ]
  },
  {
   "cell_type": "code",
   "execution_count": 329,
   "id": "7efc9700",
   "metadata": {},
   "outputs": [],
   "source": [
    "# One-hot encode the Processor column\n",
    "df = pd.get_dummies(df, columns=['Processor'], drop_first=True)\n",
    "\n"
   ]
  },
  {
   "cell_type": "code",
   "execution_count": 330,
   "id": "2db1de6c",
   "metadata": {},
   "outputs": [],
   "source": [
    "# One-hot encode the Processor column\n",
    "df = pd.get_dummies(df, columns=['Operating System'], drop_first=True)\n"
   ]
  },
  {
   "cell_type": "code",
   "execution_count": 331,
   "id": "ef10e15f",
   "metadata": {},
   "outputs": [
    {
     "data": {
      "text/plain": [
       "12    5477\n",
       "13    1421\n",
       "11     946\n",
       "10     187\n",
       "14     179\n",
       "Name: Generation, dtype: int64"
      ]
     },
     "execution_count": 331,
     "metadata": {},
     "output_type": "execute_result"
    }
   ],
   "source": [
    "\n",
    "# Extract numeric generation information (e.g., '12', '13', etc.)\n",
    "df['Generation'] = df['Generation'].str.extract(r'(\\d+)', expand=False).astype(int)\n",
    "\n",
    "# Now check the processed 'Generation' column\n",
    "df['Generation'].value_counts()\n"
   ]
  },
  {
   "cell_type": "code",
   "execution_count": 332,
   "id": "0546b382",
   "metadata": {},
   "outputs": [],
   "source": [
    "# Perform One-Hot Encoding on the 'Color' column\n",
    "df = pd.get_dummies(df, columns=['Color'], drop_first=True)"
   ]
  },
  {
   "cell_type": "code",
   "execution_count": null,
   "id": "7d03ee06",
   "metadata": {},
   "outputs": [],
   "source": []
  },
  {
   "cell_type": "code",
   "execution_count": 333,
   "id": "966bbbbd",
   "metadata": {},
   "outputs": [],
   "source": [
    "# Perform One-Hot Encoding on the 'Brand' column\n",
    "df = pd.get_dummies(df, columns=['Brand'], drop_first=True)"
   ]
  },
  {
   "cell_type": "code",
   "execution_count": 334,
   "id": "0a5c7338",
   "metadata": {},
   "outputs": [
    {
     "data": {
      "text/html": [
       "<div>\n",
       "<style scoped>\n",
       "    .dataframe tbody tr th:only-of-type {\n",
       "        vertical-align: middle;\n",
       "    }\n",
       "\n",
       "    .dataframe tbody tr th {\n",
       "        vertical-align: top;\n",
       "    }\n",
       "\n",
       "    .dataframe thead th {\n",
       "        text-align: right;\n",
       "    }\n",
       "</style>\n",
       "<table border=\"1\" class=\"dataframe\">\n",
       "  <thead>\n",
       "    <tr style=\"text-align: right;\">\n",
       "      <th></th>\n",
       "      <th>Model</th>\n",
       "      <th>Generation</th>\n",
       "      <th>RAM</th>\n",
       "      <th>Storage</th>\n",
       "      <th>Size</th>\n",
       "      <th>Warranty</th>\n",
       "      <th>Star Rating</th>\n",
       "      <th>No. of Ratings</th>\n",
       "      <th>No. of Reviews</th>\n",
       "      <th>Price</th>\n",
       "      <th>...</th>\n",
       "      <th>Color_Grey</th>\n",
       "      <th>Color_Metallic Black</th>\n",
       "      <th>Color_Silver</th>\n",
       "      <th>Brand_Acer</th>\n",
       "      <th>Brand_Apple</th>\n",
       "      <th>Brand_DELL</th>\n",
       "      <th>Brand_HP</th>\n",
       "      <th>Brand_Lenovo</th>\n",
       "      <th>Brand_MSI</th>\n",
       "      <th>Brand_SAMSUNG</th>\n",
       "    </tr>\n",
       "  </thead>\n",
       "  <tbody>\n",
       "    <tr>\n",
       "      <th>1</th>\n",
       "      <td>MSI Thin</td>\n",
       "      <td>12</td>\n",
       "      <td>16</td>\n",
       "      <td>512</td>\n",
       "      <td>39.62</td>\n",
       "      <td>2</td>\n",
       "      <td>4.3</td>\n",
       "      <td>1709</td>\n",
       "      <td>125</td>\n",
       "      <td>49990</td>\n",
       "      <td>...</td>\n",
       "      <td>1</td>\n",
       "      <td>0</td>\n",
       "      <td>0</td>\n",
       "      <td>0</td>\n",
       "      <td>0</td>\n",
       "      <td>0</td>\n",
       "      <td>0</td>\n",
       "      <td>0</td>\n",
       "      <td>1</td>\n",
       "      <td>0</td>\n",
       "    </tr>\n",
       "    <tr>\n",
       "      <th>2</th>\n",
       "      <td>HP Intel Core i</td>\n",
       "      <td>12</td>\n",
       "      <td>16</td>\n",
       "      <td>512</td>\n",
       "      <td>39.62</td>\n",
       "      <td>2</td>\n",
       "      <td>4.2</td>\n",
       "      <td>1110</td>\n",
       "      <td>126</td>\n",
       "      <td>53990</td>\n",
       "      <td>...</td>\n",
       "      <td>0</td>\n",
       "      <td>0</td>\n",
       "      <td>0</td>\n",
       "      <td>0</td>\n",
       "      <td>0</td>\n",
       "      <td>0</td>\n",
       "      <td>1</td>\n",
       "      <td>0</td>\n",
       "      <td>0</td>\n",
       "      <td>0</td>\n",
       "    </tr>\n",
       "    <tr>\n",
       "      <th>3</th>\n",
       "      <td>ASUS Vivobook</td>\n",
       "      <td>12</td>\n",
       "      <td>8</td>\n",
       "      <td>512</td>\n",
       "      <td>39.62</td>\n",
       "      <td>2</td>\n",
       "      <td>4.3</td>\n",
       "      <td>1544</td>\n",
       "      <td>289</td>\n",
       "      <td>36990</td>\n",
       "      <td>...</td>\n",
       "      <td>0</td>\n",
       "      <td>0</td>\n",
       "      <td>0</td>\n",
       "      <td>0</td>\n",
       "      <td>0</td>\n",
       "      <td>0</td>\n",
       "      <td>0</td>\n",
       "      <td>0</td>\n",
       "      <td>0</td>\n",
       "      <td>0</td>\n",
       "    </tr>\n",
       "    <tr>\n",
       "      <th>4</th>\n",
       "      <td>Acer Aspire</td>\n",
       "      <td>12</td>\n",
       "      <td>8</td>\n",
       "      <td>512</td>\n",
       "      <td>35.56</td>\n",
       "      <td>1</td>\n",
       "      <td>4.2</td>\n",
       "      <td>1380</td>\n",
       "      <td>182</td>\n",
       "      <td>29990</td>\n",
       "      <td>...</td>\n",
       "      <td>0</td>\n",
       "      <td>0</td>\n",
       "      <td>1</td>\n",
       "      <td>1</td>\n",
       "      <td>0</td>\n",
       "      <td>0</td>\n",
       "      <td>0</td>\n",
       "      <td>0</td>\n",
       "      <td>0</td>\n",
       "      <td>0</td>\n",
       "    </tr>\n",
       "    <tr>\n",
       "      <th>5</th>\n",
       "      <td>Lenovo IdeaPad Slim</td>\n",
       "      <td>12</td>\n",
       "      <td>16</td>\n",
       "      <td>512</td>\n",
       "      <td>35.56</td>\n",
       "      <td>1</td>\n",
       "      <td>4.1</td>\n",
       "      <td>1345</td>\n",
       "      <td>227</td>\n",
       "      <td>49690</td>\n",
       "      <td>...</td>\n",
       "      <td>0</td>\n",
       "      <td>1</td>\n",
       "      <td>0</td>\n",
       "      <td>0</td>\n",
       "      <td>0</td>\n",
       "      <td>0</td>\n",
       "      <td>0</td>\n",
       "      <td>1</td>\n",
       "      <td>0</td>\n",
       "      <td>0</td>\n",
       "    </tr>\n",
       "    <tr>\n",
       "      <th>...</th>\n",
       "      <td>...</td>\n",
       "      <td>...</td>\n",
       "      <td>...</td>\n",
       "      <td>...</td>\n",
       "      <td>...</td>\n",
       "      <td>...</td>\n",
       "      <td>...</td>\n",
       "      <td>...</td>\n",
       "      <td>...</td>\n",
       "      <td>...</td>\n",
       "      <td>...</td>\n",
       "      <td>...</td>\n",
       "      <td>...</td>\n",
       "      <td>...</td>\n",
       "      <td>...</td>\n",
       "      <td>...</td>\n",
       "      <td>...</td>\n",
       "      <td>...</td>\n",
       "      <td>...</td>\n",
       "      <td>...</td>\n",
       "      <td>...</td>\n",
       "    </tr>\n",
       "    <tr>\n",
       "      <th>8905</th>\n",
       "      <td>MSI Modern</td>\n",
       "      <td>13</td>\n",
       "      <td>16</td>\n",
       "      <td>512</td>\n",
       "      <td>39.62</td>\n",
       "      <td>2</td>\n",
       "      <td>4.3</td>\n",
       "      <td>1963</td>\n",
       "      <td>284</td>\n",
       "      <td>44990</td>\n",
       "      <td>...</td>\n",
       "      <td>0</td>\n",
       "      <td>0</td>\n",
       "      <td>1</td>\n",
       "      <td>0</td>\n",
       "      <td>0</td>\n",
       "      <td>0</td>\n",
       "      <td>0</td>\n",
       "      <td>0</td>\n",
       "      <td>1</td>\n",
       "      <td>0</td>\n",
       "    </tr>\n",
       "    <tr>\n",
       "      <th>8906</th>\n",
       "      <td>DELL Inspiron</td>\n",
       "      <td>12</td>\n",
       "      <td>8</td>\n",
       "      <td>512</td>\n",
       "      <td>39.62</td>\n",
       "      <td>1</td>\n",
       "      <td>4.2</td>\n",
       "      <td>1630</td>\n",
       "      <td>300</td>\n",
       "      <td>42490</td>\n",
       "      <td>...</td>\n",
       "      <td>0</td>\n",
       "      <td>0</td>\n",
       "      <td>0</td>\n",
       "      <td>0</td>\n",
       "      <td>0</td>\n",
       "      <td>1</td>\n",
       "      <td>0</td>\n",
       "      <td>0</td>\n",
       "      <td>0</td>\n",
       "      <td>0</td>\n",
       "    </tr>\n",
       "    <tr>\n",
       "      <th>8907</th>\n",
       "      <td>MSI Thin</td>\n",
       "      <td>11</td>\n",
       "      <td>8</td>\n",
       "      <td>512</td>\n",
       "      <td>39.62</td>\n",
       "      <td>2</td>\n",
       "      <td>4.3</td>\n",
       "      <td>1689</td>\n",
       "      <td>233</td>\n",
       "      <td>47990</td>\n",
       "      <td>...</td>\n",
       "      <td>0</td>\n",
       "      <td>0</td>\n",
       "      <td>0</td>\n",
       "      <td>0</td>\n",
       "      <td>0</td>\n",
       "      <td>0</td>\n",
       "      <td>0</td>\n",
       "      <td>0</td>\n",
       "      <td>1</td>\n",
       "      <td>0</td>\n",
       "    </tr>\n",
       "    <tr>\n",
       "      <th>8908</th>\n",
       "      <td>MSI Modern</td>\n",
       "      <td>12</td>\n",
       "      <td>8</td>\n",
       "      <td>512</td>\n",
       "      <td>35.56</td>\n",
       "      <td>1</td>\n",
       "      <td>4.3</td>\n",
       "      <td>764</td>\n",
       "      <td>112</td>\n",
       "      <td>36990</td>\n",
       "      <td>...</td>\n",
       "      <td>0</td>\n",
       "      <td>0</td>\n",
       "      <td>0</td>\n",
       "      <td>0</td>\n",
       "      <td>0</td>\n",
       "      <td>0</td>\n",
       "      <td>0</td>\n",
       "      <td>0</td>\n",
       "      <td>1</td>\n",
       "      <td>0</td>\n",
       "    </tr>\n",
       "    <tr>\n",
       "      <th>8909</th>\n",
       "      <td>Lenovo IdeaPad Slim</td>\n",
       "      <td>12</td>\n",
       "      <td>16</td>\n",
       "      <td>512</td>\n",
       "      <td>100.63</td>\n",
       "      <td>2</td>\n",
       "      <td>4.2</td>\n",
       "      <td>463</td>\n",
       "      <td>286</td>\n",
       "      <td>36990</td>\n",
       "      <td>...</td>\n",
       "      <td>0</td>\n",
       "      <td>0</td>\n",
       "      <td>0</td>\n",
       "      <td>0</td>\n",
       "      <td>0</td>\n",
       "      <td>0</td>\n",
       "      <td>0</td>\n",
       "      <td>1</td>\n",
       "      <td>0</td>\n",
       "      <td>0</td>\n",
       "    </tr>\n",
       "  </tbody>\n",
       "</table>\n",
       "<p>8210 rows × 30 columns</p>\n",
       "</div>"
      ],
      "text/plain": [
       "                    Model  Generation  RAM  Storage    Size  Warranty  \\\n",
       "1                MSI Thin          12   16      512   39.62         2   \n",
       "2         HP Intel Core i          12   16      512   39.62         2   \n",
       "3           ASUS Vivobook          12    8      512   39.62         2   \n",
       "4             Acer Aspire          12    8      512   35.56         1   \n",
       "5     Lenovo IdeaPad Slim          12   16      512   35.56         1   \n",
       "...                   ...         ...  ...      ...     ...       ...   \n",
       "8905           MSI Modern          13   16      512   39.62         2   \n",
       "8906        DELL Inspiron          12    8      512   39.62         1   \n",
       "8907             MSI Thin          11    8      512   39.62         2   \n",
       "8908           MSI Modern          12    8      512   35.56         1   \n",
       "8909  Lenovo IdeaPad Slim          12   16      512  100.63         2   \n",
       "\n",
       "      Star Rating  No. of Ratings  No. of Reviews  Price  ...  Color_Grey  \\\n",
       "1             4.3            1709             125  49990  ...           1   \n",
       "2             4.2            1110             126  53990  ...           0   \n",
       "3             4.3            1544             289  36990  ...           0   \n",
       "4             4.2            1380             182  29990  ...           0   \n",
       "5             4.1            1345             227  49690  ...           0   \n",
       "...           ...             ...             ...    ...  ...         ...   \n",
       "8905          4.3            1963             284  44990  ...           0   \n",
       "8906          4.2            1630             300  42490  ...           0   \n",
       "8907          4.3            1689             233  47990  ...           0   \n",
       "8908          4.3             764             112  36990  ...           0   \n",
       "8909          4.2             463             286  36990  ...           0   \n",
       "\n",
       "      Color_Metallic Black  Color_Silver  Brand_Acer  Brand_Apple  Brand_DELL  \\\n",
       "1                        0             0           0            0           0   \n",
       "2                        0             0           0            0           0   \n",
       "3                        0             0           0            0           0   \n",
       "4                        0             1           1            0           0   \n",
       "5                        1             0           0            0           0   \n",
       "...                    ...           ...         ...          ...         ...   \n",
       "8905                     0             1           0            0           0   \n",
       "8906                     0             0           0            0           1   \n",
       "8907                     0             0           0            0           0   \n",
       "8908                     0             0           0            0           0   \n",
       "8909                     0             0           0            0           0   \n",
       "\n",
       "      Brand_HP  Brand_Lenovo  Brand_MSI  Brand_SAMSUNG  \n",
       "1            0             0          1              0  \n",
       "2            1             0          0              0  \n",
       "3            0             0          0              0  \n",
       "4            0             0          0              0  \n",
       "5            0             1          0              0  \n",
       "...        ...           ...        ...            ...  \n",
       "8905         0             0          1              0  \n",
       "8906         0             0          0              0  \n",
       "8907         0             0          1              0  \n",
       "8908         0             0          1              0  \n",
       "8909         0             1          0              0  \n",
       "\n",
       "[8210 rows x 30 columns]"
      ]
     },
     "execution_count": 334,
     "metadata": {},
     "output_type": "execute_result"
    }
   ],
   "source": [
    "df"
   ]
  },
  {
   "cell_type": "markdown",
   "id": "b04248d9",
   "metadata": {},
   "source": [
    "<h2> Correlation </h2>"
   ]
  },
  {
   "cell_type": "code",
   "execution_count": 335,
   "id": "b50c7894",
   "metadata": {},
   "outputs": [
    {
     "name": "stderr",
     "output_type": "stream",
     "text": [
      "C:\\Users\\Jatin\\AppData\\Local\\Temp\\ipykernel_10368\\2868777835.py:1: FutureWarning: The default value of numeric_only in DataFrame.corr is deprecated. In a future version, it will default to False. Select only valid columns or specify the value of numeric_only to silence this warning.\n",
      "  df.corr()['Price'].sort_values(ascending=False)\n"
     ]
    },
    {
     "data": {
      "text/plain": [
       "Price                                                1.000000\n",
       "Star Rating                                          0.653616\n",
       "Brand_Apple                                          0.588424\n",
       "Operating System_Mac OS Operating System             0.588424\n",
       "Brand_SAMSUNG                                        0.300585\n",
       "RAM                                                  0.223420\n",
       "Brand_HP                                             0.064675\n",
       "Brand_Lenovo                                         0.052819\n",
       "Processor_Intel Core i7                              0.025717\n",
       "Color_Metallic Black                                 0.016212\n",
       "No. of Ratings                                       0.011592\n",
       "Processor_Intel Celeron Dual                         0.010582\n",
       "Processor_AMD Ryzen 7                                0.009983\n",
       "Warranty                                             0.009385\n",
       "No. of Reviews                                       0.005850\n",
       "Generation                                           0.001544\n",
       "Color_Silver                                        -0.001183\n",
       "Brand_Acer                                          -0.002673\n",
       "Color_Blue                                          -0.002888\n",
       "Processor_Intel Core i3                             -0.004656\n",
       "Processor_AMD Ryzen 5                               -0.005372\n",
       "Processor_Intel Core i5                             -0.017415\n",
       "Operating System_Windows 11 Operating System        -0.021136\n",
       "Color_Grey                                          -0.021401\n",
       "Operating System_Windows 11 Home Operating System   -0.080163\n",
       "Brand_DELL                                          -0.137777\n",
       "Size                                                -0.178815\n",
       "Storage                                             -0.351006\n",
       "Brand_MSI                                           -0.384307\n",
       "Name: Price, dtype: float64"
      ]
     },
     "execution_count": 335,
     "metadata": {},
     "output_type": "execute_result"
    }
   ],
   "source": [
    "df.corr()['Price'].sort_values(ascending=False)"
   ]
  },
  {
   "cell_type": "code",
   "execution_count": 336,
   "id": "460ab316",
   "metadata": {},
   "outputs": [],
   "source": [
    "# Perform One-Hot Encoding on the 'Model' column\n",
    "df = pd.get_dummies(df, columns=['Model'], drop_first=True)"
   ]
  },
  {
   "cell_type": "markdown",
   "id": "a9e84d58",
   "metadata": {},
   "source": [
    "<h1>Model Selection</h1>"
   ]
  },
  {
   "cell_type": "code",
   "execution_count": 337,
   "id": "8e17f2a1",
   "metadata": {},
   "outputs": [],
   "source": [
    "X = df.drop(columns=['Price'])\n",
    "y = np.log(df['Price'])"
   ]
  },
  {
   "cell_type": "code",
   "execution_count": 338,
   "id": "59b39a34",
   "metadata": {},
   "outputs": [
    {
     "data": {
      "text/html": [
       "<div>\n",
       "<style scoped>\n",
       "    .dataframe tbody tr th:only-of-type {\n",
       "        vertical-align: middle;\n",
       "    }\n",
       "\n",
       "    .dataframe tbody tr th {\n",
       "        vertical-align: top;\n",
       "    }\n",
       "\n",
       "    .dataframe thead th {\n",
       "        text-align: right;\n",
       "    }\n",
       "</style>\n",
       "<table border=\"1\" class=\"dataframe\">\n",
       "  <thead>\n",
       "    <tr style=\"text-align: right;\">\n",
       "      <th></th>\n",
       "      <th>Generation</th>\n",
       "      <th>RAM</th>\n",
       "      <th>Storage</th>\n",
       "      <th>Size</th>\n",
       "      <th>Warranty</th>\n",
       "      <th>Star Rating</th>\n",
       "      <th>No. of Ratings</th>\n",
       "      <th>No. of Reviews</th>\n",
       "      <th>Processor_AMD Ryzen 5</th>\n",
       "      <th>Processor_AMD Ryzen 7</th>\n",
       "      <th>...</th>\n",
       "      <th>Model_HP OMEN Intel Core i</th>\n",
       "      <th>Model_HP Pavilion Intel Core i</th>\n",
       "      <th>Model_HP Victus Intel Core i</th>\n",
       "      <th>Model_Lenovo IdeaPad Slim</th>\n",
       "      <th>Model_Lenovo Intel Core i</th>\n",
       "      <th>Model_Lenovo LOQ Intel Core i</th>\n",
       "      <th>Model_Lenovo ThinkBook</th>\n",
       "      <th>Model_MSI Modern</th>\n",
       "      <th>Model_MSI Thin</th>\n",
       "      <th>Model_SAMSUNG Galaxy Book</th>\n",
       "    </tr>\n",
       "  </thead>\n",
       "  <tbody>\n",
       "    <tr>\n",
       "      <th>1</th>\n",
       "      <td>12</td>\n",
       "      <td>16</td>\n",
       "      <td>512</td>\n",
       "      <td>39.62</td>\n",
       "      <td>2</td>\n",
       "      <td>4.3</td>\n",
       "      <td>1709</td>\n",
       "      <td>125</td>\n",
       "      <td>0</td>\n",
       "      <td>0</td>\n",
       "      <td>...</td>\n",
       "      <td>0</td>\n",
       "      <td>0</td>\n",
       "      <td>0</td>\n",
       "      <td>0</td>\n",
       "      <td>0</td>\n",
       "      <td>0</td>\n",
       "      <td>0</td>\n",
       "      <td>0</td>\n",
       "      <td>1</td>\n",
       "      <td>0</td>\n",
       "    </tr>\n",
       "    <tr>\n",
       "      <th>2</th>\n",
       "      <td>12</td>\n",
       "      <td>16</td>\n",
       "      <td>512</td>\n",
       "      <td>39.62</td>\n",
       "      <td>2</td>\n",
       "      <td>4.2</td>\n",
       "      <td>1110</td>\n",
       "      <td>126</td>\n",
       "      <td>0</td>\n",
       "      <td>0</td>\n",
       "      <td>...</td>\n",
       "      <td>0</td>\n",
       "      <td>0</td>\n",
       "      <td>0</td>\n",
       "      <td>0</td>\n",
       "      <td>0</td>\n",
       "      <td>0</td>\n",
       "      <td>0</td>\n",
       "      <td>0</td>\n",
       "      <td>0</td>\n",
       "      <td>0</td>\n",
       "    </tr>\n",
       "    <tr>\n",
       "      <th>3</th>\n",
       "      <td>12</td>\n",
       "      <td>8</td>\n",
       "      <td>512</td>\n",
       "      <td>39.62</td>\n",
       "      <td>2</td>\n",
       "      <td>4.3</td>\n",
       "      <td>1544</td>\n",
       "      <td>289</td>\n",
       "      <td>0</td>\n",
       "      <td>0</td>\n",
       "      <td>...</td>\n",
       "      <td>0</td>\n",
       "      <td>0</td>\n",
       "      <td>0</td>\n",
       "      <td>0</td>\n",
       "      <td>0</td>\n",
       "      <td>0</td>\n",
       "      <td>0</td>\n",
       "      <td>0</td>\n",
       "      <td>0</td>\n",
       "      <td>0</td>\n",
       "    </tr>\n",
       "    <tr>\n",
       "      <th>4</th>\n",
       "      <td>12</td>\n",
       "      <td>8</td>\n",
       "      <td>512</td>\n",
       "      <td>35.56</td>\n",
       "      <td>1</td>\n",
       "      <td>4.2</td>\n",
       "      <td>1380</td>\n",
       "      <td>182</td>\n",
       "      <td>0</td>\n",
       "      <td>0</td>\n",
       "      <td>...</td>\n",
       "      <td>0</td>\n",
       "      <td>0</td>\n",
       "      <td>0</td>\n",
       "      <td>0</td>\n",
       "      <td>0</td>\n",
       "      <td>0</td>\n",
       "      <td>0</td>\n",
       "      <td>0</td>\n",
       "      <td>0</td>\n",
       "      <td>0</td>\n",
       "    </tr>\n",
       "    <tr>\n",
       "      <th>5</th>\n",
       "      <td>12</td>\n",
       "      <td>16</td>\n",
       "      <td>512</td>\n",
       "      <td>35.56</td>\n",
       "      <td>1</td>\n",
       "      <td>4.1</td>\n",
       "      <td>1345</td>\n",
       "      <td>227</td>\n",
       "      <td>0</td>\n",
       "      <td>0</td>\n",
       "      <td>...</td>\n",
       "      <td>0</td>\n",
       "      <td>0</td>\n",
       "      <td>0</td>\n",
       "      <td>1</td>\n",
       "      <td>0</td>\n",
       "      <td>0</td>\n",
       "      <td>0</td>\n",
       "      <td>0</td>\n",
       "      <td>0</td>\n",
       "      <td>0</td>\n",
       "    </tr>\n",
       "    <tr>\n",
       "      <th>...</th>\n",
       "      <td>...</td>\n",
       "      <td>...</td>\n",
       "      <td>...</td>\n",
       "      <td>...</td>\n",
       "      <td>...</td>\n",
       "      <td>...</td>\n",
       "      <td>...</td>\n",
       "      <td>...</td>\n",
       "      <td>...</td>\n",
       "      <td>...</td>\n",
       "      <td>...</td>\n",
       "      <td>...</td>\n",
       "      <td>...</td>\n",
       "      <td>...</td>\n",
       "      <td>...</td>\n",
       "      <td>...</td>\n",
       "      <td>...</td>\n",
       "      <td>...</td>\n",
       "      <td>...</td>\n",
       "      <td>...</td>\n",
       "      <td>...</td>\n",
       "    </tr>\n",
       "    <tr>\n",
       "      <th>8905</th>\n",
       "      <td>13</td>\n",
       "      <td>16</td>\n",
       "      <td>512</td>\n",
       "      <td>39.62</td>\n",
       "      <td>2</td>\n",
       "      <td>4.3</td>\n",
       "      <td>1963</td>\n",
       "      <td>284</td>\n",
       "      <td>0</td>\n",
       "      <td>0</td>\n",
       "      <td>...</td>\n",
       "      <td>0</td>\n",
       "      <td>0</td>\n",
       "      <td>0</td>\n",
       "      <td>0</td>\n",
       "      <td>0</td>\n",
       "      <td>0</td>\n",
       "      <td>0</td>\n",
       "      <td>1</td>\n",
       "      <td>0</td>\n",
       "      <td>0</td>\n",
       "    </tr>\n",
       "    <tr>\n",
       "      <th>8906</th>\n",
       "      <td>12</td>\n",
       "      <td>8</td>\n",
       "      <td>512</td>\n",
       "      <td>39.62</td>\n",
       "      <td>1</td>\n",
       "      <td>4.2</td>\n",
       "      <td>1630</td>\n",
       "      <td>300</td>\n",
       "      <td>0</td>\n",
       "      <td>0</td>\n",
       "      <td>...</td>\n",
       "      <td>0</td>\n",
       "      <td>0</td>\n",
       "      <td>0</td>\n",
       "      <td>0</td>\n",
       "      <td>0</td>\n",
       "      <td>0</td>\n",
       "      <td>0</td>\n",
       "      <td>0</td>\n",
       "      <td>0</td>\n",
       "      <td>0</td>\n",
       "    </tr>\n",
       "    <tr>\n",
       "      <th>8907</th>\n",
       "      <td>11</td>\n",
       "      <td>8</td>\n",
       "      <td>512</td>\n",
       "      <td>39.62</td>\n",
       "      <td>2</td>\n",
       "      <td>4.3</td>\n",
       "      <td>1689</td>\n",
       "      <td>233</td>\n",
       "      <td>1</td>\n",
       "      <td>0</td>\n",
       "      <td>...</td>\n",
       "      <td>0</td>\n",
       "      <td>0</td>\n",
       "      <td>0</td>\n",
       "      <td>0</td>\n",
       "      <td>0</td>\n",
       "      <td>0</td>\n",
       "      <td>0</td>\n",
       "      <td>0</td>\n",
       "      <td>1</td>\n",
       "      <td>0</td>\n",
       "    </tr>\n",
       "    <tr>\n",
       "      <th>8908</th>\n",
       "      <td>12</td>\n",
       "      <td>8</td>\n",
       "      <td>512</td>\n",
       "      <td>35.56</td>\n",
       "      <td>1</td>\n",
       "      <td>4.3</td>\n",
       "      <td>764</td>\n",
       "      <td>112</td>\n",
       "      <td>0</td>\n",
       "      <td>0</td>\n",
       "      <td>...</td>\n",
       "      <td>0</td>\n",
       "      <td>0</td>\n",
       "      <td>0</td>\n",
       "      <td>0</td>\n",
       "      <td>0</td>\n",
       "      <td>0</td>\n",
       "      <td>0</td>\n",
       "      <td>1</td>\n",
       "      <td>0</td>\n",
       "      <td>0</td>\n",
       "    </tr>\n",
       "    <tr>\n",
       "      <th>8909</th>\n",
       "      <td>12</td>\n",
       "      <td>16</td>\n",
       "      <td>512</td>\n",
       "      <td>100.63</td>\n",
       "      <td>2</td>\n",
       "      <td>4.2</td>\n",
       "      <td>463</td>\n",
       "      <td>286</td>\n",
       "      <td>0</td>\n",
       "      <td>0</td>\n",
       "      <td>...</td>\n",
       "      <td>0</td>\n",
       "      <td>0</td>\n",
       "      <td>0</td>\n",
       "      <td>1</td>\n",
       "      <td>0</td>\n",
       "      <td>0</td>\n",
       "      <td>0</td>\n",
       "      <td>0</td>\n",
       "      <td>0</td>\n",
       "      <td>0</td>\n",
       "    </tr>\n",
       "  </tbody>\n",
       "</table>\n",
       "<p>8210 rows × 48 columns</p>\n",
       "</div>"
      ],
      "text/plain": [
       "      Generation  RAM  Storage    Size  Warranty  Star Rating  No. of Ratings  \\\n",
       "1             12   16      512   39.62         2          4.3            1709   \n",
       "2             12   16      512   39.62         2          4.2            1110   \n",
       "3             12    8      512   39.62         2          4.3            1544   \n",
       "4             12    8      512   35.56         1          4.2            1380   \n",
       "5             12   16      512   35.56         1          4.1            1345   \n",
       "...          ...  ...      ...     ...       ...          ...             ...   \n",
       "8905          13   16      512   39.62         2          4.3            1963   \n",
       "8906          12    8      512   39.62         1          4.2            1630   \n",
       "8907          11    8      512   39.62         2          4.3            1689   \n",
       "8908          12    8      512   35.56         1          4.3             764   \n",
       "8909          12   16      512  100.63         2          4.2             463   \n",
       "\n",
       "      No. of Reviews  Processor_AMD Ryzen 5  Processor_AMD Ryzen 7  ...  \\\n",
       "1                125                      0                      0  ...   \n",
       "2                126                      0                      0  ...   \n",
       "3                289                      0                      0  ...   \n",
       "4                182                      0                      0  ...   \n",
       "5                227                      0                      0  ...   \n",
       "...              ...                    ...                    ...  ...   \n",
       "8905             284                      0                      0  ...   \n",
       "8906             300                      0                      0  ...   \n",
       "8907             233                      1                      0  ...   \n",
       "8908             112                      0                      0  ...   \n",
       "8909             286                      0                      0  ...   \n",
       "\n",
       "      Model_HP OMEN Intel Core i  Model_HP Pavilion Intel Core i  \\\n",
       "1                              0                               0   \n",
       "2                              0                               0   \n",
       "3                              0                               0   \n",
       "4                              0                               0   \n",
       "5                              0                               0   \n",
       "...                          ...                             ...   \n",
       "8905                           0                               0   \n",
       "8906                           0                               0   \n",
       "8907                           0                               0   \n",
       "8908                           0                               0   \n",
       "8909                           0                               0   \n",
       "\n",
       "      Model_HP Victus Intel Core i  Model_Lenovo IdeaPad Slim  \\\n",
       "1                                0                          0   \n",
       "2                                0                          0   \n",
       "3                                0                          0   \n",
       "4                                0                          0   \n",
       "5                                0                          1   \n",
       "...                            ...                        ...   \n",
       "8905                             0                          0   \n",
       "8906                             0                          0   \n",
       "8907                             0                          0   \n",
       "8908                             0                          0   \n",
       "8909                             0                          1   \n",
       "\n",
       "      Model_Lenovo Intel Core i  Model_Lenovo LOQ Intel Core i  \\\n",
       "1                             0                              0   \n",
       "2                             0                              0   \n",
       "3                             0                              0   \n",
       "4                             0                              0   \n",
       "5                             0                              0   \n",
       "...                         ...                            ...   \n",
       "8905                          0                              0   \n",
       "8906                          0                              0   \n",
       "8907                          0                              0   \n",
       "8908                          0                              0   \n",
       "8909                          0                              0   \n",
       "\n",
       "      Model_Lenovo ThinkBook  Model_MSI Modern  Model_MSI Thin  \\\n",
       "1                          0                 0               1   \n",
       "2                          0                 0               0   \n",
       "3                          0                 0               0   \n",
       "4                          0                 0               0   \n",
       "5                          0                 0               0   \n",
       "...                      ...               ...             ...   \n",
       "8905                       0                 1               0   \n",
       "8906                       0                 0               0   \n",
       "8907                       0                 0               1   \n",
       "8908                       0                 1               0   \n",
       "8909                       0                 0               0   \n",
       "\n",
       "      Model_SAMSUNG Galaxy Book  \n",
       "1                             0  \n",
       "2                             0  \n",
       "3                             0  \n",
       "4                             0  \n",
       "5                             0  \n",
       "...                         ...  \n",
       "8905                          0  \n",
       "8906                          0  \n",
       "8907                          0  \n",
       "8908                          0  \n",
       "8909                          0  \n",
       "\n",
       "[8210 rows x 48 columns]"
      ]
     },
     "execution_count": 338,
     "metadata": {},
     "output_type": "execute_result"
    }
   ],
   "source": [
    "X"
   ]
  },
  {
   "cell_type": "code",
   "execution_count": 339,
   "id": "9e3820dd",
   "metadata": {},
   "outputs": [
    {
     "data": {
      "text/plain": [
       "1       10.819578\n",
       "2       10.896554\n",
       "3       10.518403\n",
       "4       10.308619\n",
       "5       10.813559\n",
       "          ...    \n",
       "8905    10.714196\n",
       "8906    10.657024\n",
       "8907    10.778748\n",
       "8908    10.518403\n",
       "8909    10.518403\n",
       "Name: Price, Length: 8210, dtype: float64"
      ]
     },
     "execution_count": 339,
     "metadata": {},
     "output_type": "execute_result"
    }
   ],
   "source": [
    "y"
   ]
  },
  {
   "cell_type": "code",
   "execution_count": 340,
   "id": "8d393424",
   "metadata": {},
   "outputs": [],
   "source": [
    "from sklearn.model_selection import train_test_split\n",
    "X_train,X_test,y_train,y_test = train_test_split(X,y,test_size=0.15,random_state=2)"
   ]
  },
  {
   "cell_type": "code",
   "execution_count": 341,
   "id": "53ecb3b8",
   "metadata": {},
   "outputs": [],
   "source": [
    "from sklearn.compose import ColumnTransformer\n",
    "from sklearn.pipeline import Pipeline\n",
    "from sklearn.preprocessing import OneHotEncoder\n",
    "from sklearn.metrics import r2_score,mean_absolute_error"
   ]
  },
  {
   "cell_type": "code",
   "execution_count": 342,
   "id": "28533314",
   "metadata": {},
   "outputs": [],
   "source": [
    "from sklearn.linear_model import LinearRegression,Ridge,Lasso\n",
    "from sklearn.neighbors import KNeighborsRegressor\n",
    "from sklearn.tree import DecisionTreeRegressor\n",
    "from sklearn.ensemble import RandomForestRegressor,GradientBoostingRegressor,AdaBoostRegressor,ExtraTreesRegressor\n",
    "from sklearn.svm import SVR\n",
    "from xgboost import XGBRegressor"
   ]
  },
  {
   "cell_type": "markdown",
   "id": "46dbddb0",
   "metadata": {},
   "source": [
    "<h1>Lasso regression</h1>"
   ]
  },
  {
   "cell_type": "code",
   "execution_count": 343,
   "id": "07624768",
   "metadata": {},
   "outputs": [
    {
     "name": "stdout",
     "output_type": "stream",
     "text": [
      "R2 Score: 0.927538453857948\n",
      "Mean Absolute Error (MAE): 0.053850776848557505\n",
      "Root Mean Squared Error (RMSE): 0.07784423688505154\n"
     ]
    }
   ],
   "source": [
    "# Import necessary libraries\n",
    "from sklearn.preprocessing import StandardScaler\n",
    "from sklearn.linear_model import Lasso\n",
    "from sklearn.pipeline import Pipeline\n",
    "from sklearn.metrics import r2_score, mean_absolute_error, mean_squared_error\n",
    "\n",
    "# Create a pipeline with StandardScaler and Lasso Regression\n",
    "pipeline = Pipeline(steps=[\n",
    "    ('scaler', StandardScaler()),  # StandardScaler to standardize the features\n",
    "    ('regressor', Lasso(alpha=0.001))  # Lasso Regression model with alpha=0.001\n",
    "])\n",
    "\n",
    "# Fit the model\n",
    "pipeline.fit(X_train, y_train)\n",
    "\n",
    "# Make predictions\n",
    "y_pred = pipeline.predict(X_test)\n",
    "\n",
    "# Evaluate the model\n",
    "r2 = r2_score(y_test, y_pred)\n",
    "mae = mean_absolute_error(y_test, y_pred)\n",
    "rmse = np.sqrt(mean_squared_error(y_test, y_pred))\n",
    "\n",
    "# Print model evaluation metrics\n",
    "print('R2 Score:', r2)\n",
    "print('Mean Absolute Error (MAE):', mae)\n",
    "print('Root Mean Squared Error (RMSE):', rmse)\n"
   ]
  },
  {
   "cell_type": "markdown",
   "id": "aa0e103f",
   "metadata": {},
   "source": [
    "<h1>KNN</h1>"
   ]
  },
  {
   "cell_type": "code",
   "execution_count": 344,
   "id": "768e8434",
   "metadata": {},
   "outputs": [
    {
     "name": "stdout",
     "output_type": "stream",
     "text": [
      "R2 Score: 0.9365686113076417\n",
      "Mean Absolute Error (MAE): 0.04082410496630114\n",
      "Root Mean Squared Error (RMSE): 0.07283242612857899\n"
     ]
    }
   ],
   "source": [
    "# Create a pipeline with StandardScaler and KNN Regression\n",
    "pipeline = Pipeline(steps=[\n",
    "    ('scaler', StandardScaler()),          # Standardize the features\n",
    "    ('regressor', KNeighborsRegressor(n_neighbors=5))  # Use KNN regressor\n",
    "])\n",
    "\n",
    "# Fit the model\n",
    "pipeline.fit(X_train, y_train)\n",
    "\n",
    "# Make predictions\n",
    "y_pred = pipeline.predict(X_test)\n",
    "\n",
    "# Evaluate the model\n",
    "r2 = r2_score(y_test, y_pred)\n",
    "mae = mean_absolute_error(y_test, y_pred)\n",
    "rmse = np.sqrt(mean_squared_error(y_test, y_pred))\n",
    "\n",
    "# Print the evaluation metrics\n",
    "print('R2 Score:', r2)\n",
    "print('Mean Absolute Error (MAE):', mae)\n",
    "print('Root Mean Squared Error (RMSE):', rmse)"
   ]
  },
  {
   "cell_type": "markdown",
   "id": "8fbf8f04",
   "metadata": {},
   "source": [
    "# Decision Tree"
   ]
  },
  {
   "cell_type": "code",
   "execution_count": 345,
   "id": "502ec371",
   "metadata": {},
   "outputs": [
    {
     "name": "stdout",
     "output_type": "stream",
     "text": [
      "R2 Score: 0.9509498583743491\n",
      "Mean Absolute Error (MAE): 0.021659895352501388\n",
      "Root Mean Squared Error (RMSE): 0.06404611637432991\n"
     ]
    }
   ],
   "source": [
    "\n",
    "\n",
    "# Create a pipeline with StandardScaler and DecisionTree Regressor\n",
    "pipeline = Pipeline(steps=[\n",
    "    ('scaler', StandardScaler()),  # Standardize the features\n",
    "    ('regressor', DecisionTreeRegressor(random_state=42))  # Use DecisionTreeRegressor\n",
    "])\n",
    "\n",
    "# Fit the model\n",
    "pipeline.fit(X_train, y_train)\n",
    "\n",
    "# Make predictions\n",
    "y_pred = pipeline.predict(X_test)\n",
    "\n",
    "# Evaluate the model\n",
    "r2 = r2_score(y_test, y_pred)\n",
    "mae = mean_absolute_error(y_test, y_pred)\n",
    "rmse = np.sqrt(mean_squared_error(y_test, y_pred))\n",
    "\n",
    "# Print the evaluation metrics\n",
    "print('R2 Score:', r2)\n",
    "print('Mean Absolute Error (MAE):', mae)\n",
    "print('Root Mean Squared Error (RMSE):', rmse)\n"
   ]
  },
  {
   "cell_type": "markdown",
   "id": "4d19d22b",
   "metadata": {},
   "source": [
    "# SVR"
   ]
  },
  {
   "cell_type": "code",
   "execution_count": 346,
   "id": "54683f07",
   "metadata": {},
   "outputs": [
    {
     "name": "stdout",
     "output_type": "stream",
     "text": [
      "R2 Score: 0.9161009549478853\n",
      "Mean Absolute Error (MAE): 0.06318344715410998\n",
      "Root Mean Squared Error (RMSE): 0.08376279802331756\n"
     ]
    }
   ],
   "source": [
    "# Create a pipeline with StandardScaler and Support Vector Regression (SVR)\n",
    "pipeline = Pipeline(steps=[\n",
    "    ('scaler', StandardScaler()),  # Standardize the features\n",
    "    ('regressor', SVR(kernel='rbf', C=10000, epsilon=0.1))  # Use Support Vector Regression (SVR)\n",
    "])\n",
    "\n",
    "# Fit the model on the training data\n",
    "pipeline.fit(X_train, y_train)\n",
    "\n",
    "# Make predictions on the test data\n",
    "y_pred = pipeline.predict(X_test)\n",
    "\n",
    "# Evaluate the model\n",
    "r2 = r2_score(y_test, y_pred)\n",
    "mae = mean_absolute_error(y_test, y_pred)\n",
    "rmse = np.sqrt(mean_squared_error(y_test, y_pred))\n",
    "\n",
    "# Print the evaluation metrics\n",
    "print('R2 Score:', r2)\n",
    "print('Mean Absolute Error (MAE):', mae)\n",
    "print('Root Mean Squared Error (RMSE):', rmse)"
   ]
  },
  {
   "cell_type": "markdown",
   "id": "a55c0934",
   "metadata": {},
   "source": [
    "# Random Forest"
   ]
  },
  {
   "cell_type": "code",
   "execution_count": 347,
   "id": "e3710c0d",
   "metadata": {},
   "outputs": [
    {
     "name": "stdout",
     "output_type": "stream",
     "text": [
      "R2 Score: 0.9744555921581622\n",
      "Mean Absolute Error (MAE): 0.021138412225254852\n",
      "Root Mean Squared Error (RMSE): 0.04621900449912219\n"
     ]
    }
   ],
   "source": [
    "# Create a pipeline with StandardScaler and Random Forest Regressor\n",
    "pipeline = Pipeline(steps=[\n",
    "    ('scaler', StandardScaler()),  # Standardize the features\n",
    "    ('regressor', RandomForestRegressor(n_estimators=100, random_state=42))  # Use Random Forest Regressor\n",
    "])\n",
    "\n",
    "# Fit the model on the training data\n",
    "pipeline.fit(X_train, y_train)\n",
    "\n",
    "# Make predictions on the test data\n",
    "y_pred = pipeline.predict(X_test)\n",
    "\n",
    "# Evaluate the model\n",
    "r2 = r2_score(y_test, y_pred)\n",
    "mae = mean_absolute_error(y_test, y_pred)\n",
    "rmse = np.sqrt(mean_squared_error(y_test, y_pred))\n",
    "\n",
    "# Print the evaluation metrics\n",
    "print('R2 Score:', r2)\n",
    "print('Mean Absolute Error (MAE):', mae)\n",
    "print('Root Mean Squared Error (RMSE):', rmse)"
   ]
  },
  {
   "cell_type": "markdown",
   "id": "bd8d55b2",
   "metadata": {},
   "source": [
    "<h2>Observations</h2>\n",
    "\n",
    "<b> Random Forest Model gives the best R2 score</b><br>\n",
    "\n",
    "<p> R2 Score: 0.9744555921581622</p>\n",
    "<p> Mean Absolute Error (MAE): 0.021138412225254852</p>\n",
    "<p> Root Mean Squared Error (RMSE): 0.04621900449912219</p>\n"
   ]
  },
  {
   "cell_type": "markdown",
   "id": "6be02cbf",
   "metadata": {},
   "source": [
    "# Exporting the Model"
   ]
  },
  {
   "cell_type": "code",
   "execution_count": 348,
   "id": "a884f2c1",
   "metadata": {},
   "outputs": [],
   "source": [
    "import pickle\n",
    "\n",
    "pickle.dump(df,open('df.pkl','wb'))\n",
    "pickle.dump(pipeline,open('pipe.pkl','wb'))"
   ]
  },
  {
   "cell_type": "code",
   "execution_count": 349,
   "id": "43880961",
   "metadata": {},
   "outputs": [
    {
     "name": "stdout",
     "output_type": "stream",
     "text": [
      "{'scaler': StandardScaler(), 'regressor': RandomForestRegressor(random_state=42)}\n"
     ]
    }
   ],
   "source": [
    "print(pipeline.named_steps)\n"
   ]
  },
  {
   "cell_type": "code",
   "execution_count": 376,
   "id": "ea802361",
   "metadata": {},
   "outputs": [
    {
     "name": "stdout",
     "output_type": "stream",
     "text": [
      "\n",
      "Model Performance Comparison:\n",
      "------------------------------------------------------------\n",
      "               R2 Score\n",
      "Model                  \n",
      "Lasso            0.9275\n",
      "KNN              0.9366\n",
      "Decision Tree    0.9509\n",
      "SVR              0.9161\n",
      "Random Forest    0.9745\n",
      "------------------------------------------------------------\n",
      "\n",
      "Best performing model by R² Score: Random Forest\n"
     ]
    },
    {
     "data": {
      "image/png": "[encoded data removed]",
      "text/plain": [
       "<Figure size 1500x500 with 1 Axes>"
      ]
     },
     "metadata": {},
     "output_type": "display_data"
    }
   ],
   "source": [
    "import pandas as pd\n",
    "import matplotlib.pyplot as plt\n",
    "import seaborn as sns\n",
    "\n",
    "# Create dictionary of results\n",
    "model_results = {\n",
    "    'Model': ['Lasso', 'KNN', 'Decision Tree', 'SVR', 'Random Forest'],\n",
    "    'R2 Score': [0.927538453857948,0.9365686113076417,0.9509498583743491,0.9161009549478853,0.9744555921581622], \n",
    " \n",
    "}\n",
    "\n",
    "# Create DataFrame\n",
    "results_df = pd.DataFrame(model_results)\n",
    "results_df = results_df.set_index('Model')\n",
    "\n",
    "# Create visualizations\n",
    "plt.figure(figsize=(15, 5))\n",
    "\n",
    "# Plot R2 Scores\n",
    "plt.subplot(1, 3, 1)\n",
    "sns.barplot(data=results_df.reset_index(), x='Model', y='R2 Score', palette='viridis')\n",
    "plt.title('R² Score Comparison')\n",
    "plt.xticks(rotation=45)\n",
    "plt.ylim(0, 1)  # R2 score typically ranges from 0 to 1\n",
    "\n",
    "\n",
    "\n",
    "\n",
    "# Print formatted comparison table\n",
    "print(\"\\nModel Performance Comparison:\")\n",
    "print(\"-\" * 60)\n",
    "print(results_df.round(4).to_string())\n",
    "print(\"-\" * 60)\n",
    "\n",
    "# Find best performing models\n",
    "best_r2_model = results_df['R2 Score'].idxmax()\n",
    "\n",
    "\n",
    "\n",
    "print(f\"\\nBest performing model by R² Score: {best_r2_model}\")\n",
    "\n"
   ]
  },
  {
   "cell_type": "code",
   "execution_count": null,
   "id": "fa3c1200",
   "metadata": {},
   "outputs": [],
   "source": []
  },
  {
   "cell_type": "code",
   "execution_count": null,
   "id": "459682f3",
   "metadata": {},
   "outputs": [],
   "source": []
  },
  {
   "cell_type": "code",
   "execution_count": null,
   "id": "3514cd41",
   "metadata": {},
   "outputs": [],
   "source": []
  },
  {
   "cell_type": "code",
   "execution_count": null,
   "id": "d74d8cd3",
   "metadata": {},
   "outputs": [],
   "source": []
  },
  {
   "cell_type": "code",
   "execution_count": null,
   "id": "16cdda51",
   "metadata": {},
   "outputs": [],
   "source": []
  },
  {
   "cell_type": "code",
   "execution_count": null,
   "id": "0e6f89a6",
   "metadata": {},
   "outputs": [],
   "source": []
  },
  {
   "cell_type": "code",
   "execution_count": null,
   "id": "17624bc3",
   "metadata": {},
   "outputs": [],
   "source": []
  },
  {
   "cell_type": "code",
   "execution_count": null,
   "id": "54af1276",
   "metadata": {},
   "outputs": [],
   "source": []
  },
  {
   "cell_type": "code",
   "execution_count": null,
   "id": "f01712b4",
   "metadata": {},
   "outputs": [],
   "source": []
  },
  {
   "cell_type": "code",
   "execution_count": null,
   "id": "208bf407",
   "metadata": {},
   "outputs": [],
   "source": []
  }
 ],
 "metadata": {
  "kernelspec": {
   "display_name": "Python 3 (ipykernel)",
   "language": "python",
   "name": "python3"
  },
  "language_info": {
   "codemirror_mode": {
    "name": "ipython",
    "version": 3
   },
   "file_extension": ".py",
   "mimetype": "text/x-python",
   "name": "python",
   "nbconvert_exporter": "python",
   "pygments_lexer": "ipython3",
   "version": "3.10.4"
  }
 },
 "nbformat": 4,
 "nbformat_minor": 5
}
